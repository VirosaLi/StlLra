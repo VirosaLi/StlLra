{
 "cells": [
  {
   "cell_type": "code",
   "execution_count": 9,
   "metadata": {
    "collapsed": true
   },
   "outputs": [],
   "source": [
    "import geopandas as gpd\n",
    "from shapely.geometry import Polygon\n",
    "import matplotlib.pyplot as plt\n",
    "\n",
    "from src.utils import get_lra_properties, get_parcel_and_shape, crs_to_pixel_coordinate"
   ]
  },
  {
   "cell_type": "code",
   "execution_count": 10,
   "outputs": [],
   "source": [
    "parcel, shape = get_parcel_and_shape()"
   ],
   "metadata": {
    "collapsed": false,
    "pycharm": {
     "name": "#%%\n"
    }
   }
  },
  {
   "cell_type": "code",
   "execution_count": 11,
   "outputs": [],
   "source": [
    "vacant, dollar, improved = get_lra_properties()\n"
   ],
   "metadata": {
    "collapsed": false,
    "pycharm": {
     "name": "#%%\n"
    }
   }
  },
  {
   "cell_type": "code",
   "execution_count": 12,
   "outputs": [],
   "source": [
    "vacant_parcel = parcel[parcel['SITEADDR'].isin(vacant['Address'])]\n",
    "vacant_shape = shape[shape['HANDLE'].isin(vacant_parcel['HANDLE'])]"
   ],
   "metadata": {
    "collapsed": false,
    "pycharm": {
     "name": "#%%\n"
    }
   }
  },
  {
   "cell_type": "code",
   "execution_count": 14,
   "outputs": [
    {
     "data": {
      "text/plain": "             HANDLE                                           geometry\n156     10052000050  POLYGON ((588867.329 1014391.582, 588838.473 1...\n917     10308030040  POLYGON ((588353.901 1028496.114, 588205.950 1...\n1068    10339000010  POLYGON ((587921.461 1026255.845, 587786.843 1...\n1069    10339000020  POLYGON ((587963.239 1026272.566, 587935.387 1...\n1074    10339000070  POLYGON ((588100.735 1026224.238, 588040.389 1...\n...             ...                                                ...\n127140  16506000150  POLYGON ((564294.565 1037600.740, 564268.133 1...\n127141  16506000160  POLYGON ((564268.133 1037615.729, 564241.700 1...\n127144  16506000190  POLYGON ((564162.403 1037675.688, 564135.971 1...\n127227  19036000070  POLYGON ((569553.998 1000178.456, 569444.680 1...\n127355  19084000185  POLYGON ((567336.387 1007049.665, 567330.590 1...\n\n[6688 rows x 2 columns]",
      "text/html": "<div>\n<style scoped>\n    .dataframe tbody tr th:only-of-type {\n        vertical-align: middle;\n    }\n\n    .dataframe tbody tr th {\n        vertical-align: top;\n    }\n\n    .dataframe thead th {\n        text-align: right;\n    }\n</style>\n<table border=\"1\" class=\"dataframe\">\n  <thead>\n    <tr style=\"text-align: right;\">\n      <th></th>\n      <th>HANDLE</th>\n      <th>geometry</th>\n    </tr>\n  </thead>\n  <tbody>\n    <tr>\n      <th>156</th>\n      <td>10052000050</td>\n      <td>POLYGON ((588867.329 1014391.582, 588838.473 1...</td>\n    </tr>\n    <tr>\n      <th>917</th>\n      <td>10308030040</td>\n      <td>POLYGON ((588353.901 1028496.114, 588205.950 1...</td>\n    </tr>\n    <tr>\n      <th>1068</th>\n      <td>10339000010</td>\n      <td>POLYGON ((587921.461 1026255.845, 587786.843 1...</td>\n    </tr>\n    <tr>\n      <th>1069</th>\n      <td>10339000020</td>\n      <td>POLYGON ((587963.239 1026272.566, 587935.387 1...</td>\n    </tr>\n    <tr>\n      <th>1074</th>\n      <td>10339000070</td>\n      <td>POLYGON ((588100.735 1026224.238, 588040.389 1...</td>\n    </tr>\n    <tr>\n      <th>...</th>\n      <td>...</td>\n      <td>...</td>\n    </tr>\n    <tr>\n      <th>127140</th>\n      <td>16506000150</td>\n      <td>POLYGON ((564294.565 1037600.740, 564268.133 1...</td>\n    </tr>\n    <tr>\n      <th>127141</th>\n      <td>16506000160</td>\n      <td>POLYGON ((564268.133 1037615.729, 564241.700 1...</td>\n    </tr>\n    <tr>\n      <th>127144</th>\n      <td>16506000190</td>\n      <td>POLYGON ((564162.403 1037675.688, 564135.971 1...</td>\n    </tr>\n    <tr>\n      <th>127227</th>\n      <td>19036000070</td>\n      <td>POLYGON ((569553.998 1000178.456, 569444.680 1...</td>\n    </tr>\n    <tr>\n      <th>127355</th>\n      <td>19084000185</td>\n      <td>POLYGON ((567336.387 1007049.665, 567330.590 1...</td>\n    </tr>\n  </tbody>\n</table>\n<p>6688 rows × 2 columns</p>\n</div>"
     },
     "execution_count": 14,
     "metadata": {},
     "output_type": "execute_result"
    }
   ],
   "source": [
    "vacant_shape"
   ],
   "metadata": {
    "collapsed": false,
    "pycharm": {
     "name": "#%%\n"
    }
   }
  },
  {
   "cell_type": "code",
   "execution_count": 15,
   "outputs": [],
   "source": [
    "vacant_shape.to_file('../data/processed/vacant.geojson', driver='GeoJSON')\n"
   ],
   "metadata": {
    "collapsed": false,
    "pycharm": {
     "name": "#%%\n"
    }
   }
  }
 ],
 "metadata": {
  "kernelspec": {
   "display_name": "Python 3",
   "language": "python",
   "name": "python3"
  },
  "language_info": {
   "codemirror_mode": {
    "name": "ipython",
    "version": 2
   },
   "file_extension": ".py",
   "mimetype": "text/x-python",
   "name": "python",
   "nbconvert_exporter": "python",
   "pygments_lexer": "ipython2",
   "version": "2.7.6"
  }
 },
 "nbformat": 4,
 "nbformat_minor": 0
}