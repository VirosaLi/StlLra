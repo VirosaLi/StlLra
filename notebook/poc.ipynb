{
 "cells": [
  {
   "cell_type": "code",
   "execution_count": 5,
   "metadata": {
    "collapsed": true
   },
   "outputs": [],
   "source": [
    "import geopandas as gpd\n",
    "from shapely.geometry import Polygon\n",
    "import matplotlib.pyplot as plt\n",
    "\n",
    "from src.utils import get_lra_properties, get_parcel_and_shape, crs_to_pixel_coordinate"
   ]
  },
  {
   "cell_type": "code",
   "execution_count": 6,
   "outputs": [],
   "source": [
    "parcel, shape = get_parcel_and_shape()"
   ],
   "metadata": {
    "collapsed": false,
    "pycharm": {
     "name": "#%%\n"
    }
   }
  },
  {
   "cell_type": "code",
   "execution_count": 7,
   "outputs": [
    {
     "data": {
      "text/plain": "             HANDLE                                           geometry  \\\n0       10001000005  POLYGON ((38171.530 -56674.969, 38164.906 -566...   \n1       10001000010  MULTIPOLYGON (((38188.504 -56622.298, 38188.17...   \n2       10001000020  POLYGON ((38228.681 -56431.442, 38216.325 -564...   \n3       10001000032  POLYGON ((38302.126 -56731.335, 38295.907 -567...   \n4       10001000034  POLYGON ((38281.564 -56722.460, 38280.723 -567...   \n...             ...                                                ...   \n127619  19121000175  POLYGON ((39404.236 -373.573, 39388.268 -139.8...   \n127620  19121000185  POLYGON ((41136.868 -581.596, 41037.728 -796.8...   \n127621  19121000250  POLYGON ((39859.089 -4031.043, 39811.770 -4162...   \n127622  19121000260  POLYGON ((39680.491 -3439.437, 39328.630 -3396...   \n127623  19121000270  POLYGON ((39414.175 -2162.826, 39452.484 -2163...   \n\n                                               coordinate  \n0       [38171.53028129961, 56674.9689373218, 38164.90...  \n1       [38188.504096671706, 56622.298139272956, 38188...  \n2       [38228.68131161912, 56431.442463515676, 38216....  \n3       [38302.12607092026, 56731.335377723095, 38295....  \n4       [38281.563563554664, 56722.460415867274, 38280...  \n...                                                   ...  \n127619  [39404.23607116018, 373.5732075071428, 39388.2...  \n127620  [41136.86777299072, 581.5959333276842, 41037.7...  \n127621  [39859.08873557404, 4031.043375227833, 39811.7...  \n127622  [39680.49114994309, 3439.436960683437, 39328.6...  \n127623  [39414.175111493794, 2162.8263222170062, 39452...  \n\n[127624 rows x 3 columns]",
      "text/html": "<div>\n<style scoped>\n    .dataframe tbody tr th:only-of-type {\n        vertical-align: middle;\n    }\n\n    .dataframe tbody tr th {\n        vertical-align: top;\n    }\n\n    .dataframe thead th {\n        text-align: right;\n    }\n</style>\n<table border=\"1\" class=\"dataframe\">\n  <thead>\n    <tr style=\"text-align: right;\">\n      <th></th>\n      <th>HANDLE</th>\n      <th>geometry</th>\n      <th>coordinate</th>\n    </tr>\n  </thead>\n  <tbody>\n    <tr>\n      <th>0</th>\n      <td>10001000005</td>\n      <td>POLYGON ((38171.530 -56674.969, 38164.906 -566...</td>\n      <td>[38171.53028129961, 56674.9689373218, 38164.90...</td>\n    </tr>\n    <tr>\n      <th>1</th>\n      <td>10001000010</td>\n      <td>MULTIPOLYGON (((38188.504 -56622.298, 38188.17...</td>\n      <td>[38188.504096671706, 56622.298139272956, 38188...</td>\n    </tr>\n    <tr>\n      <th>2</th>\n      <td>10001000020</td>\n      <td>POLYGON ((38228.681 -56431.442, 38216.325 -564...</td>\n      <td>[38228.68131161912, 56431.442463515676, 38216....</td>\n    </tr>\n    <tr>\n      <th>3</th>\n      <td>10001000032</td>\n      <td>POLYGON ((38302.126 -56731.335, 38295.907 -567...</td>\n      <td>[38302.12607092026, 56731.335377723095, 38295....</td>\n    </tr>\n    <tr>\n      <th>4</th>\n      <td>10001000034</td>\n      <td>POLYGON ((38281.564 -56722.460, 38280.723 -567...</td>\n      <td>[38281.563563554664, 56722.460415867274, 38280...</td>\n    </tr>\n    <tr>\n      <th>...</th>\n      <td>...</td>\n      <td>...</td>\n      <td>...</td>\n    </tr>\n    <tr>\n      <th>127619</th>\n      <td>19121000175</td>\n      <td>POLYGON ((39404.236 -373.573, 39388.268 -139.8...</td>\n      <td>[39404.23607116018, 373.5732075071428, 39388.2...</td>\n    </tr>\n    <tr>\n      <th>127620</th>\n      <td>19121000185</td>\n      <td>POLYGON ((41136.868 -581.596, 41037.728 -796.8...</td>\n      <td>[41136.86777299072, 581.5959333276842, 41037.7...</td>\n    </tr>\n    <tr>\n      <th>127621</th>\n      <td>19121000250</td>\n      <td>POLYGON ((39859.089 -4031.043, 39811.770 -4162...</td>\n      <td>[39859.08873557404, 4031.043375227833, 39811.7...</td>\n    </tr>\n    <tr>\n      <th>127622</th>\n      <td>19121000260</td>\n      <td>POLYGON ((39680.491 -3439.437, 39328.630 -3396...</td>\n      <td>[39680.49114994309, 3439.436960683437, 39328.6...</td>\n    </tr>\n    <tr>\n      <th>127623</th>\n      <td>19121000270</td>\n      <td>POLYGON ((39414.175 -2162.826, 39452.484 -2163...</td>\n      <td>[39414.175111493794, 2162.8263222170062, 39452...</td>\n    </tr>\n  </tbody>\n</table>\n<p>127624 rows × 3 columns</p>\n</div>"
     },
     "execution_count": 7,
     "metadata": {},
     "output_type": "execute_result"
    }
   ],
   "source": [
    "shape = crs_to_pixel_coordinate(shape)\n",
    "shape\n"
   ],
   "metadata": {
    "collapsed": false,
    "pycharm": {
     "name": "#%%\n"
    }
   }
  }
 ],
 "metadata": {
  "kernelspec": {
   "display_name": "Python 3",
   "language": "python",
   "name": "python3"
  },
  "language_info": {
   "codemirror_mode": {
    "name": "ipython",
    "version": 2
   },
   "file_extension": ".py",
   "mimetype": "text/x-python",
   "name": "python",
   "nbconvert_exporter": "python",
   "pygments_lexer": "ipython2",
   "version": "2.7.6"
  }
 },
 "nbformat": 4,
 "nbformat_minor": 0
}